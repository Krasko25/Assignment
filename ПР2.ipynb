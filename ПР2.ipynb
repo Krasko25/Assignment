{
  "nbformat": 4,
  "nbformat_minor": 0,
  "metadata": {
    "colab": {
      "provenance": []
    },
    "kernelspec": {
      "name": "python3",
      "display_name": "Python 3"
    },
    "language_info": {
      "name": "python"
    }
  },
  "cells": [
    {
      "cell_type": "markdown",
      "source": [
        "Для того, чтобы данная программа работала необходимо установить некоторые пакеты. Список пакетов приложен в файле readme"
      ],
      "metadata": {
        "id": "xVmih2zBQuDu"
      }
    },
    {
      "cell_type": "markdown",
      "source": [
        "Для того, чтобы программа не отображала ошибки, используем данные строки:"
      ],
      "metadata": {
        "id": "Gx2xLxBAUw9A"
      }
    },
    {
      "cell_type": "code",
      "source": [
        "#отключение предупреждений\n",
        "import os\n",
        "os.environ['TF_CPP_MIN_LOG_LEVEL'] = '2'"
      ],
      "metadata": {
        "id": "8voap4_IU3ID"
      },
      "execution_count": null,
      "outputs": []
    },
    {
      "cell_type": "markdown",
      "source": [
        "Список установленных библиотек не притерпел изминений:"
      ],
      "metadata": {
        "id": "HPXlVxs7UW7y"
      }
    },
    {
      "cell_type": "code",
      "source": [
        "#подключаем все необходимые библиотеки\n",
        "import numpy as np\n",
        "import matplotlib.pyplot as plt\n",
        "from tensorflow import keras\n",
        "from tensorflow.keras.layers import Dense"
      ],
      "metadata": {
        "id": "o9VKIeZ2UaSs"
      },
      "execution_count": null,
      "outputs": []
    },
    {
      "cell_type": "markdown",
      "source": [
        "Списки с данными для обучения я решил поменять для того, чтобы дать нейронной сети больше информации для анализа:"
      ],
      "metadata": {
        "id": "_ssOT8onU9DT"
      }
    },
    {
      "cell_type": "code",
      "source": [
        "#задаем значения двух списков, где значения заданы в разных мерах измерения,\n",
        "#но эквивалентны друг другу\n",
        "#данные списки нужны для обучения нейронной сети\n",
        "c = np.array([-50, -20, -5, 0, 3, 6, 10, 15, 23, 28, 40, 41, 43, 89, 103, 104])\n",
        "f = np.array([-58, -4, 23, 32, 37.4, 42.8, 50, 59, 73.4, 82.4, 104, 105.8, 109.4, 192.2, 217.4, 219.2])"
      ],
      "metadata": {
        "id": "m0Q4HOQKVbNd"
      },
      "execution_count": null,
      "outputs": []
    },
    {
      "cell_type": "markdown",
      "source": [
        "С следующей части кода существенных изменений не имеется:"
      ],
      "metadata": {
        "id": "gd0rKmZIVe2j"
      }
    },
    {
      "cell_type": "code",
      "source": [
        "#определяем последовательную модель нейронной сети\n",
        "model = keras.Sequential()\n",
        "\n",
        "#добавляем в эту модель слой нейронов, состоящий из одного выходного нейрона,\n",
        "#имеющий ровно один вход и линейную активационную функцию\n",
        "model.add(Dense(units=1, input_shape=(1,), activation=\"linear\"))\n",
        "\n",
        "#критерий качества\n",
        "model.compile(loss=\"mean_squared_error\", optimizer=keras.optimizers.Adam(0.1))\n"
      ],
      "metadata": {
        "id": "W8cP9USpVlkr"
      },
      "execution_count": 10,
      "outputs": []
    },
    {
      "cell_type": "markdown",
      "source": [
        "Так как программе достаются относительно простые вычисления, для более точных вычислений мы можем позволить себе увеличить число эпох:"
      ],
      "metadata": {
        "id": "jEsbUrCuVrKG"
      }
    },
    {
      "cell_type": "code",
      "source": [
        "#используем метод fit для обучения\n",
        "history = model.fit(c, f, epochs=1000, verbose=0)\n",
        "print(\"Обучение завершилось\")"
      ],
      "metadata": {
        "id": "z0Vjf5V1Wpn5"
      },
      "execution_count": null,
      "outputs": []
    },
    {
      "cell_type": "markdown",
      "source": [
        "Проверим качество обучения нейронной сети:"
      ],
      "metadata": {
        "id": "M2gMKlUXW3j_"
      }
    },
    {
      "cell_type": "code",
      "source": [
        "#тест обученной нейронной сети\n",
        "print(model.predict([100]))\n",
        "print(model.get_weights())"
      ],
      "metadata": {
        "colab": {
          "base_uri": "https://localhost:8080/"
        },
        "id": "r3jMkKrlXBsr",
        "outputId": "fdac703c-1be2-403b-f7d2-dc9f63ca75a6"
      },
      "execution_count": 12,
      "outputs": [
        {
          "output_type": "stream",
          "name": "stdout",
          "text": [
            "1/1 [==============================] - 0s 45ms/step\n",
            "[[144.6547]]\n",
            "[array([[1.4465469]], dtype=float32), array([0.], dtype=float32)]\n"
          ]
        }
      ]
    },
    {
      "cell_type": "markdown",
      "source": [
        "В итого у нас получись следующие значения, которые довольно близки к верным:![Screenshot 2023-08-10 at 10.34.02.png](data:image/png;base64,iVBORw0KGgoAAAANSUhEUgAAAoEAAABICAYAAACJKy/tAAAYS2lDQ1BJQ0MgUHJvZmlsZQAAWIWVeQk4lV3X/77PfI75HPM8z2Se53meZxKO6ZjiGEOJJGOiQkglGSuVQiUiDUoZekiSSIZKoaJC9d2Gep73ef/X/7u+fV17799Ze+211l57XOcGgKvKNzIyDMEIQHhEDNXB1IDfzd2DHzsLIMAA6OCSyZccHalvZ2cF4PS7/s+0MgzzwempzIas/27//yYm/4BoMgCQHYz9/KPJ4TC+CgCqnBxJjQEAs0EXio+J3MBwBsxU2EAYZ27goC1cvoH9tvClTR4nB0MYdwOAo/X1pQYBQN8P0/njyEGwDPpFuI0Y4U+JAIAFBWOd8PDd/gBwGcE84jBPJIw3xqHm9w85Qf8h0++PTF/foD94ayybCWdEiY4M893zf3TH/57Cw2J/6xCFM20w1cxhY8yw30ZCd1tuYFoYz0f42djCmAjjbxT/TX4YIwjBsWbOW/wIbnK0IewzwApjOX9fI0sYc8PYJCLMxmqb7hdIMTGHMbxCEAmUGHMnGLPDODMg2thxm+c0dbfDti5EcyDVUH+b/sCXuql3Q9d4bKiz/rb8T8EB5tvykfSJwU6uMCbAWDiO4mIDY3oYy0aHOlpu82glBhva/Oahxjps2C8MY4eACFODLfnIuECqicM2f3Z49O/xIk8HU8xttvGVmGAnsy3/ILvJvpv2w2NB9gdE6Dv/lhMQ7Wb1eyz+AUbGW2NHzgVEODtuy/kWGWPgsNUXRYgMs9vmRwkGhJlu0AVhrBQd57jdF+USAy/ILfmowMgYO6ctO1GJIb4Wdlv2oI4AK2AIjAA/iIWzH9gNQgDlyXzLPPxrq8UE+AIqCAIBQGab8ruH62ZLBFw6gkTwAUYBIPpPP4PN1gAQB9N//KFulTIgcLM1brNHKJiBcTiwBGHw79jNXhF/tLmANzCF8l/afeFMhu0Ng/NG+/+b/pv6N0UfplhtU2J/a+Rn+M2JMcYYYcwwJhgJFCdKB6WJsoJLPTgroNRQ6r/H8Tc/egY9gH6NHkJPoJ/voqRR/2WlNZiA5Zts+8Lvn75AicIylVEGKG1YOiwZxYriBDIoJViPPkoX1qwMUw237d7wCv+/ZP/HCP4xG9t8eDk8As+G18OL/7snvSS98h8pG77+p3+2bPX742/DPy3/1m/4D+/7w7XlvzmRmcgm5H1kJ7IH2YZsAfzIDmQrshd5awP/WV1vNlfXb20Om/aEwnIo/6Xv98xueDJarkHurdz6VltMQMLGGQ0Md0fuoVKCgmP49eEbIYDfPIIsK82vIKegCMDG/bJ1fH122Lw3INa+v2nkgwCowuczfvVvWvhnAC7Be5/f+m+aiDe8/TAA1M6QY6lxWzTURoGGTwkGeKdxAF4gBMTh8SgAFaAJ9IAxsAC2wAm4A2/Y+mB4nVNBPEgGqSAD5IAj4DgoBafAWVALLoAroAW0gU5wDzwC/WAIvIBXzzR4DxbBCliDIAgL0UEkiAPig0QgKUgBUoN0IGPICnKA3CEfKAiKgGKhZOgAlAMVQqXQGagOugxdhzqhHmgAeg5NQm+hT9AqAomgRTAjeBCiiB0INYQ+whLhhNiJCEJEIRIR6YjDiBJEJeI8ohnRiXiEGEJMIN4jlpEASYNkRQogZZBqSEOkLdIDGYikIvchs5FFyErkReQNeJ6fIieQ88jvKAyKhOJHycAr2AzljCKjolD7ULmoUlQtqhnVjXqKmkQton6i6dDcaCm0Btoc7YYOQsejM9BF6Gr0NfRdeC9No1cwGAwrRgyjCu9Fd0wIJgmTizmJacTcxgxgpjDLWCyWAyuF1cbaYn2xMdgM7AnseWwHdhA7jf2Go8Hx4RRwJjgPXAQuDVeEq8e14wZxs7g1PCNeBK+Bt8X74/fg8/FV+Bv4Pvw0fo3ARBAjaBOcCCGEVEIJ4SLhLmGM8JmGhkaQRp3GnoZCs5+mhOYSzQOaSZrvtERaSVpDWi/aWNrDtDW0t2mf036mo6MTpdOj86CLoTtMV0d3h26c7hs9iV6W3pzenz6Fvoy+mX6Q/iMDnkGEQZ/BmyGRoYihiaGPYZ4RzyjKaMjoy7iPsYzxOuMzxmUmEpM8ky1TOFMuUz1TD9McEUsUJRoT/YnpxLPEO8QpEpIkRDIkkUkHSFWku6RpZgyzGLM5cwhzDvMF5ifMiyxEFiUWF5YEljKWWywTrEhWUVZz1jDWfNYrrMOsq2w8bPpsAWxZbBfZBtm+snOx67EHsGezN7IPsa9y8HMYc4RyFHC0cLzkRHFKctpzxnNWcN7lnOdi5tLkInNlc13hGuVGcEtyO3AncZ/l7uVe5uHlMeWJ5DnBc4dnnpeVV483hPcYbzvvWz4Snw4fhe8YXwffO34Wfn3+MP4S/m7+RQFuATOBWIEzAk8E1gTFBJ0F0wQbBV8KEYTUhAKFjgl1CS0K8wlbCycLNwiPiuBF1ESCRYpF7ot8FRUTdRU9JNoiOifGLmYulijWIDYmTieuKx4lXin+lwRGQk0iVOKkRL8kQlJZMliyTLJPCiGlIkWROik1II2WVpeOkK6UfiZDK6MvEyfTIDMpyyprJZsm2yL7cYfwDo8dBTvu7/gppywXJlcl90KeKG8hnyZ/Q/6TgqQCWaFM4S9FOkUTxRTFVsUlJSmlAKUKpRFlkrK18iHlLuUfKqoqVJWLKm9VhVV9VMtVn6kxq9mp5ao9UEerG6inqLepf9dQ0YjRuKKxoCmjGapZrzmnJaYVoFWlNaUtqO2rfUZ7Qodfx0fntM6EroCur26l7ms9IT1/vWq9WX0J/RD98/ofDeQMqAbXDL4aahjuNbxthDQyNco2emJMNHY2LjUeNxE0CTJpMFk0VTZNMr1thjazNCswe2bOY042rzNftFC12GvRbUlr6WhZavnaStKKanXDGmFtYX3UesxGxCbCpsUW2JrbHrV9aSdmF2V30x5jb2dfZj/jIO+Q7HDfkeS4y7HeccXJwCnf6YWzuHOsc5cLg4uXS53LV1cj10LXCbcdbnvdHrlzulPcWz2wHi4e1R7Lnsaexz2nvZS9MryGd4rtTNjZ483pHeZ9axfDLt9dTT5oH1efep91X1vfSt9lP3O/cr9FsiG5mPzeX8//mP/bAO2AwoDZQO3AwsC5IO2go0Fvg3WDi4LnKYaUUspSiFnIqZCvobahNaG/wlzDGsNx4T7h1yOIEaER3bt5dyfsHoiUisyInIjSiDoetUi1pFZHQ9E7o1tjmOGHfG+seOzB2Mk4nbiyuG/xLvFNCUwJEQm9eyT3ZO2ZTTRJPJeESiIndSULJKcmT+7V33tmH7TPb19XilBKesr0ftP9tamE1NDUx2lyaYVpXw64HriRzpO+P33qoOnBhgz6DGrGs0Oah05lojIpmU+yFLNOZP3M9s9+mCOXU5SznkvOfZgnn1eS9+tw4OEn+Sr5FUcwRyKODBfoFtQWMhUmFk4dtT7afIz/WPaxL8d3He8pUio6VUwoji2eKLEqaT0hfOLIifXS4NKhMoOyxnLu8qzyryf9Tw5W6FVcPMVzKufU6mnK6ZEzpmeaK0Uri85izsadnalyqbp/Tu1cXTVndU71j5qImolah9ruOtW6unru+vwGRENsw9vzXuf7LxhdaL0oc/FMI2tjziVwKfbSu8s+l4evWF7palJrunhV5Gr5NdK17GaoeU/zYktwy0Sre+vAdYvrXTc0b1y7KXuzpk2grewWy638dkJ7evuvjsSO5duRt+c7gzqnunZ1vbjjduevbvvuJ3ct7z64Z3Lvzn39+x0PtB+09Wj0XH+o9rDlkcqj5l7l3muPlR9fe6LypLlPta+1X73/xoDWQPug7mDnU6On9/4y/+vRkM3QwLDz8Mgzr2cTI/4jc8/Dni+Nxo2uvdg/hh7Lfsn4smice7zylcSrxgmViVuTRpO9rx1fv5giT71/E/1mfTp9hm6maJZvtm5OYa7trcnb/nee76bfR75fm8/4wPSh/KP4x6sLegu9i26L00vUpV+fcj9zfK75ovSla9lueXwlfGXta/Y3jm+139W+3191XZ1di1/Hrpf8kPhx46flz7Ff4b9+RfpSfTefAkg4IwIDAfhUAwCdOwAkOD4jeG7Ff9sJCT8+EHDtAslC7xHp8I3ah8pAm2CQmEfYElwE3oogQYOlmacdpGuhr2GoZmxkaiV2kR4x97OMsL5im2N/z7HEucr1gwfBi+Uj8NMJEAWJQqzC7CJsouxi3OI8EvyS/FKC0sIyorJiO6Tl5OQVFVQUNZR0lY1VzFXN1UzUTTRMNA219LW1dDR0lfRk9UUNeAyZjQhGv4w/m8yYPjfrNW+zqLU8apViHWLjZmtsp2wv5sDlyOiEc0a6QK4IN5Q73oPRk8NLeKeMt8QuYR8+X04/FjLJnxhACmQN4goWpEiHqIaahLmEUyKSdxdGVkWdppZEF8TkxmbFZccfTijZU5vYnvRiL9gnnbJr/4nUFwcE03cf7DyEyRTKUsg2yHHMDcxLPFyQX3vkdsFo4fIxpuMyRRbFgSUHTlSUXi8bLH9zcvkU9jTHGclKrbO2VX7nYqoP1hTV1tZdr3/YMHr+3YXvjbhLbJfFr+g2uV+NupbVfLKlsbXjes+Nvpv9bY9udbVf7ii7ndK5q0vjDvHOTPf1u/X3yu/nPEjo8Xto/ki2l753/vHdJ+V9kf0GA6SBqcErT1P/sh8SGUYNv33WO9L4vHA05oXLmNpLzpfr4+OvOifOTWa93j3l/EZrWhheZSuzf81dfVv8LuV92Dz5A/lj5ELO4rWlhc96X86skL6WfJdafbKe8lPj169/zL8Ccg5ViLbEsGBeYptwufggghGNJC0D7TrdLP0IwwjjK6Y3xA+kz8wrLD9Y19h+sP/k+MG5wvWZe4FnhneMb5D/rsB1wWqhHOEwEStRSTG82DvxHok6yWwpirSljIwsnezCjgG5q/LFCsmKZCV7ZQMVBVUBNaLaL/WPGmOaPVrN2pU6ubrxej76FgYKhpxGCKO3xk9MLpkWmEWbO1moWLJZrlm9sr5jU29bYJdkH+jg6KjvJO8s4EJyxbquur13H/Po9bzl1bjztPfRXYd8kn2pfhSyr79HgFOgfZBNsCXFMsQsVDNMNlwggmU3TSQicj3qG/V79I9YdBwxXihBY49TYnRSUXLb3pkUmv18qTJp2gds0v0OxmfkHarO7Mgazf6ay5yncNg+P+JIXkFD4YOjb479KuIsVi6xOxFaerDsVHnryf6KuVM/zzBXSpzVrrI7R66OrTlUWwKfc70NCxeIFxUbHS9FXc6/0tDUfXXs2qcWTCvHdckbGjct2txuBbbHdKTcTu080HXwTkb3obuZ97Lv5z7I68l7mPcorzf3cc6TrL5D/ekDqYN7n8b9FTW0ezjyWcxI0vODo0dfVI41vbw3/vzVh0nwmjgl+EZ+WmfGfNZv7vTbD++V55M+tH/8uai5FPfp4uc3y+wrll9TvjV9n13jXnf4kf2ze3v+jRH6yB3Ij6hO9CGMI1Ycu4S7js8gONBw04zTnqULp1dnQDB0MqYzWRAZiP2kI8y2LAwsj1mz2UzYIfZWjghOIc4RrhxuHe4PPGW8Zrxf+Cr4zfg/ChwT1BAcE9orzC/cLuItsi5aIqYk1iseIL4ucVRSSrJDylFqRjpVRkRmRDZ3h8GOL3I18p4KdAodipFKAkqDymkqCiqTqvlq2mof1Ms0zDWWNc9q2Wv91G7QcdfF6l7TI+sT9W8bRBryG/YbpRkrGc+alJrawu+Om+ZRFlIWbywrrDysWa2f2hTaOtiR7IbtTzh4Owo7vnO67JzoYuzK4DrqVu0e7WHgSes57HVqZ7C3gvfarrs+Bb5efhJ+K+Ru/6MBvoGKQaig4eB6SkqIU6h0GDrsVfiNiJLd8ZGuURpU3mhU9HzMUGxnXGN8RUL+ntTE+KTQZP+9O/e5pTjtd0i1T7M/4JDudNA9Y+ehgMzQrOjslJzM3MK8isN1+c1H7hQMFI4f/XgcVSRR7FVy5MTd0rVy2ZN+FcdPPTy9XqlwNqCq9FxfDapWqy6+vrHh/QXJiyGN9ZcWrqg07b/a28zREtbafYPvZkrb63arjrZO+a7z3VJ3L983eDD6MKGX73F/X96A01PRITD8fuTN6LuX4JXI5K6p+hn0XOJ78KFqkfxZd0Xtu/N6ycb8b/0PuJEwKgAcPwTAxv88DnUA5J4HQGwPAGxw7GlHB4CTOkAImAJouQtAFtp/7g8IDjwJgAR4gCRQA2ZwfBkGx5TFoBH0gCnwA2KHlCFHKBo6DrVCL+GYTxrhgkhFNCLGkQxIA2Q88gJyBo7SvFBlqBdwJOaDPof+gFHBpGKeYHmw4dgOHAlHwXXiOfGx+EGCIqGYsE5DpnlMq05bS8dOl0uPoE+i/8oQy7DCmMgEMWUTWYlVJDVSP3MIC5blHKsx6wxbJrsUez9HDCcHZzuXPzcN9xUeD14k7wU+TzgiGBDIF7QVYhJ6Klws4ikqIDojdl48WkJDEpLskSqQ9oRX56Ls4I42uWr5QoV9ihQlR2UNFT5VSHVCrU39mEaIprYWvdaYdp1OjK6uHk5vQL/J4Kphi9EN43aTO6Y9Zn3mwxbjlrNWS9Zrtjg7VntRBzVHKyeyc7JLiWu725wHyVPfK3JnpfeQD8FX3y+J3Or/NVAtKCm4M4QQ6hxWFb682yyyImohWismJ3Y8XinhyJ6lJNfke/u0U9pTLdOm0rMytDNB1kDOpbzy/MICs6PIY3eLCkoCSg3LpSsET4tUKlXZVEfVltU/ugAaVS/bNLlfC25Jvn785pVbgx0rXbzdZvdiHpx++KT3R5/MwM6nh4duj5BGyWMXxucnuafUpvVm5d/Sv3s2f/jjjoXOJbNP3V8UlktXVr/Zfz+3urSu8SPl5+3N82Nr/onw/EsAVWACXEEI2AeOgQbQDcbBN4gEyUE2UAR0BGqCniMAQgKO8tMQlxGv4TjeCpmO7ECuobRRB1C9aHZ0ILoZg8d4Y5qxjNgw7COcNC4ft4z3wt8jyBKKaZA0UTSTtM60D+kM6drptehvwVHsA0Z7xnE4Tv1FPEaSJT1mjoAjz1ZWXzYatlb2QA5Wjvuce7ikuSa5i3lseXG8XXz7+Q0EMAKPBYuEfIVlhddFekUrxKLEjSW4JD5JPpQ6K50i4ymruUNCjl0eL7+usKA4pfRM+aHKTdXzaqXqhzSomp5ahtqSOow6y7qjeu36jQaXDZuMWoxvmnSYdps9NO+3eGb5ymrWeslmzQ5nz+og5qjuZO3s77LXtdTtuvuoxw8vwZ0W3jG7Tvv0+UFkFf+IgLrAmWBRSkjI5dDVcNOIot1zUVrUvdEdsag4q/jihJlE9aTDybP7jFNqU+nT9hyYhc+T/kyLrPs5Zrm9hx3yJwpSjvIeu10UWEJ/orXM/ySp4t7pvZUqZz+du1wTW6fVgDk/dPHcpeQrXldVmulbpq5fvXnglk0H++3Jrrpu6j2tB9ie4Ud1j/f3eQ3oPBUZYhp+MOL8fPpF4kvm8SsTTpPrU7XT7rMMcz3vMuctPzIuPFs6/TlkWeUr4lvfatl60E/F7flHAgyg3TwBxIEKvALcQDg4CE6Bm2AU3v+CkAUUC1VBwwgahBG887uQOKQ98hTyE8oCVYPGo6noVxgneLfbYIdwZNx3fBFBnTBNc4JWj3aMLomen76HIZ5RknGK6RTRjyRB+sp8n6WCNYnNk12PQ4qTnYuGG8G9zrPKu84PBLDwC5RHWFZEW9RBLEh8v8QJyWtw3L0oy7hDQc5Vfp9ClWKf0pqKhKq7WqH6oCazlrt2lc6CnrZ+nsErI0XjHJNJMy3zIotPVnbWF2xp7cLsHzpKOuU4v3O1cKv3wHtSvO57i+466DPtZ0iuDkAG+gfdoYiGZITOhVtFNEayRCVQJ2KMYi/Gsyfs2/M+yQ3epyopNakcaYfTUQeTMz5lemRdzv6V65RXc3j1iGPBxaOEY5Tj94qlSnJPLJS5lt+qED1VAJ/9/md7z2lW19Qy1SXWz5x3vNDWKHop//JKk/fVe80yLUdaF2/Y37x4i9Ae2NHeSewKuNN8F3XP7n7Zg6mHEo8ovdWPJ/s4++0HDg5effp6iDAs98xhhPr88GjdiztjQy9nxpderU9Cr7FTmDeYaTC9OvNhdnzu8dvWd5XvM+cjPlh/lFrALrxabF3K+uTxWeLzpy9ty2krRl8xX7u/pXzX/L60em7NY52w3vyD/JPu55Vf7hvzv/XtaPP+YATgNNcGGrj0Ef/v7zZb35X+EZv8uwabt8tG2rhdNmv4pgH/A7kbz8KgwZzUAAAAVmVYSWZNTQAqAAAACAABh2kABAAAAAEAAAAaAAAAAAADkoYABwAAABIAAABEoAIABAAAAAEAAAKBoAMABAAAAAEAAABIAAAAAEFTQ0lJAAAAU2NyZWVuc2hvdFC9WMgAAAHVaVRYdFhNTDpjb20uYWRvYmUueG1wAAAAAAA8eDp4bXBtZXRhIHhtbG5zOng9ImFkb2JlOm5zOm1ldGEvIiB4OnhtcHRrPSJYTVAgQ29yZSA2LjAuMCI+CiAgIDxyZGY6UkRGIHhtbG5zOnJkZj0iaHR0cDovL3d3dy53My5vcmcvMTk5OS8wMi8yMi1yZGYtc3ludGF4LW5zIyI+CiAgICAgIDxyZGY6RGVzY3JpcHRpb24gcmRmOmFib3V0PSIiCiAgICAgICAgICAgIHhtbG5zOmV4aWY9Imh0dHA6Ly9ucy5hZG9iZS5jb20vZXhpZi8xLjAvIj4KICAgICAgICAgPGV4aWY6UGl4ZWxZRGltZW5zaW9uPjcyPC9leGlmOlBpeGVsWURpbWVuc2lvbj4KICAgICAgICAgPGV4aWY6UGl4ZWxYRGltZW5zaW9uPjY0MTwvZXhpZjpQaXhlbFhEaW1lbnNpb24+CiAgICAgICAgIDxleGlmOlVzZXJDb21tZW50PlNjcmVlbnNob3Q8L2V4aWY6VXNlckNvbW1lbnQ+CiAgICAgIDwvcmRmOkRlc2NyaXB0aW9uPgogICA8L3JkZjpSREY+CjwveDp4bXBtZXRhPgrilyoPAAAw3ElEQVR4Ae3dCdxt5fQH8J34IzMJCQlRSpMilEtS0qRRkUaKSqgkRCgNQklEA4WShEqF0iANEklpUFSGTJllHv73+7DOu99z9zl7n3e49733rvX5nHP22cMz/Paz1/Pbaz3PehZ55jOf+Z8qJRFIBBKBRCARSAQSgURgoULgHgtVbbOyiUAikAgkAolAIpAIJAIFgUmRwAc84AHV4x//+IQyEUgEEoFEIBFIBBKBRGA+Q+Ce/eV9+tOfXq222mrV/e53v+r222+vzjvvvOovf/lL77RHPvKR1dZbb1095SlPqf7v//6v7D/yyCOr6667rndObiQCiUAikAgkAolAIpAIzGwExpHA5z//+dXLXvay6l//+lchfk996lOrlVZaqXrXu95V/fOf/6we+tCHVm95y1sK+bviiiuqG2+8sfrd735X/fjHP57ZtczSJQKJQCKQCCQCiUAikAiMQ6BHAhdZZJFqvfXWK2TvoIMOqn76059Wr3vd6ypEcIUVVqi+853vVBtvvHF173vfuzrqqKMKAfz3v/89LrGp/qNMPtOdzz3ucY9J5bHooosW4jyo/lNVj7ZyOv6f//ynfAaVZabsb6vLTClnliMRSAQSgUQgEVhQEeiRwCWXXLJafPHFq+9973s9y94FF1xQSCBrIBK4/PLLVwjPK17xiuphD3tYsQJecskl1TnnnFNIFCviE57whOqII46o/vznPxfMHvKQh1R77bVXcRefccYZ1Z577lmOnXDCCeX44x73uGrnnXeuPvvZz1bf/e53yz7lkNYTn/jEYnX8wQ9+UJ188snVz3/+83J89913L2l87GMfK/+XXnrpaocddqhOP/30Un4WzbXXXrs6/PDDy3lc2Lvttlt18803V6eeemq55p73vGe1ySabVLNnR1fK+Ktf/ao666yzKhbOLnLf+9632nvvvSu4Ica///3vS95f/OIXq1/84hclCeWYNWtW9YhHPKLg85Of/KTUUznIYostVr3xjW8s276U4dprr62+/vWv9/a1lRNxf9aznlX96Ec/qlZZZZVCAL/5zW9Wp5xySiH03PYvfelLq2OOOaZ62tOeVup78MEHl3uIiH384x+vuuAlDWnVhcVYWki6umyzzTbFcqzMMPj0pz9dMI9rkOHnPe95JT+Y/O1vf6tuuOGGSluw3X9f47r8TQQSgUQgEUgEEoGpR6A3MeTBD35wSf2OO+7o5RLbcYw7mBgviCzp7DfddNNCdOz/2c9+ViF1z3jGM/wtgqA85jGPqRAg8qhHPaqQovJn9hfy8OhHP7q6//3vX3bd5z73qfbff/9ifbzllluqa665phBLJC7E+dIJkYY8HvSgB5Vdyus/ckaQVv8f/vCHl/++tttuu2qDDTYobm9E1vjGXXbZpUIYuwgC9Mc//rH62te+Vp199tmFhKmrNEJWXHHF6u677y7jKhE7+e+zzz69csBPuZAjrnV577jjjoV4Rxpt5VTXpZZaqhBBacjvuc99brHaSgOu8oCr++f+EHkFhl3wQtqk4yXBR5mXnk2+EUkCY/WHyfe///1Spje84Q0lz3LC7K/111+/kHvlgMfll19e7rP7R/rva9mZX4lAIpAIJAKJQCIwLQj0LIFBoMKCJ7eYEMLqRRAfxIWl7/bZk0ZY0GwjHRdeeGF15ZVXVltuuWW11lprVRdddFEhCs95znOqP/3pT9W3vvWtkgar0b3uda+y3fTlWqTk/PPPr84888xyCgsZwoZ0yHcUQUye/OQnj7sECXn2s59d/eY3v6kOPfTQYj279NJLqwMOOKBSXlbJNvn73/9e3OJxHuvlIYccUvCJfaxvxlIiSogOgsT6yMKpTiHXX399sWIivaxhQbZGKecXvvCFQkbdn6OPPrrcg8997nORReffJrziYveRtZVoE8gnUTcTitQJhu7xC1/4wjKBCM5IMtK44YYblmP77bdfwcK1rMiIa0oikAgkAolAIpAIzF0EeiQQWSFh2alvxz7EBxHkeiS//e1vq7vuuqtaYoklyn8E8qqrripECpFBFBz7yle+UsiQk0wiWX311as11lijWAe5mOsSxGLdddetfOrCshYkkEUL4SAsk01i/1ZbbVX98pe/LMQyzuHCRUqQLISpLsY/diGBcc2uu+5a3KQPfOADy67PfOYzcaiQTzOpWdwCQwdjVnWcuOaaaxbrn3KRIMyjlJP1jbiP7k+40svOjl+D8HI5cjlobCYLJzyR2DgnyhNtA9askTfddFOPAEqXG70u7uuBBx5Y2hlLtGEIMUygfl5uJwKJQCKQCCQCicDkEOiRwOiMxf4Lie049te//rV05NHRO89EhDrBufjiiwsJNCZPp0+4W0McN8YQeWoSYw7Jpz71qTI5pX5OjAm0j5US6SBISN3VW3bO/kIA1eG4444rYwJjf+QRLsnY7zesn/V9w7a/8Y1vlLGKxkKaRGN8HbcsAvzKV76yYMOiedttt1XLLbdc9aIXvWictVDaLGzIEZItHdYzlr1RyhkkXnruiXuEmI0ig/CSBuJq3F6TRDn/8Y9/9A7HdhxDIok6DhP4GzOJVK+66qrFyvzBD36wDAsYdl0eSwQSgUQgEUgEEoHREOiRQAQLcUBUQmLbTGHC8oekGE/mfESHG7Tu2kR2WKJmzZ4QgYSwCNXJmw7erOMnPelJFaLA9VsnhDGpAoGMCRRRnvov656JB4Q1ceWVV64fLttIGZJmDFtdIg/lH5ZH/ZpB2yxVPoRl0uQMxJNF06/JNSaLEJNQmkSMRW5WbvJjjz22pIEEjlLOZZZZpjKBBubyvvXWWweStqYy2DcILyTfeL0777yz8dJf//rXZb+2ERLbcUwbYUU2uUQ9gyTG+fHrvsbkHa5pk4ZYNY0NTUkEEoFEIBFIBBKBqUOgRwJZ+4xNM4PU5ASuOJM+EMPLLrus5IhQ6dz32GOPsk9QaaSDC7gurH0mChBj7fqFNSiIWRDNOId1jrXMhwsxJkyYbPL+97+/ENE4t+2Xe/q0006b4zSkVP7Kb+ay2bQsVtzUMOC+bpOlZ49PRHQRL/LYxz62fP7whz8UayIyzHLG6onYOI7UNAmCZSwidzcJ0j1KOTfaaKPiFkcGkVv1qIu6KoN6ygu2YeGN85rwct4WW2xR0hxExKSD7C+77LJlTKNJQGYBs0hG29COtIt11lmnkGUTauBjsshhhx1WwY0YZ2qMKUug+0G+/e1vl9/8SgQSgUQgEUgEEoGpQ6BHAiV54oknlhAuSIIP9+9HP/rRnqWPWxdhMXkDMSBXX311de6555bt+NLxI4FIhePDhHWIxC9roxVIEFFEwocgFkgFQSjifP9jO37DyvT5z3++R3Qcq7siuYi33377YkFEfImJG0hoFzGRBkmBBXEti6CJDlyzPiZmvPjFL6623XbbUkYWP0Qvyqk+Pvb5qHvMNo4ydC0nrBFBgphKh0Reccw+2BITY8gwvIxnNE7SPUbiBolwPa95zWuKC5cbV5pc+vVA4sZaIqGGCggnQ1gIw5XtviKd2o59P/zhD8v4zCDag/LO/YlAIpAIJAKJQCIwOgKLzHZR/pdZ1a7lxjRJgAVLx9wvQq8Yg4dEIB/9wq0oPIgZw4jARAXRUharkhg3Nx0SdVEP+TTVd1C+3KQsVn6DUPWf6xgiBcsgW/3ndPk/qJwmnpiJy8XuHOUfVJYu+Uz2HO59s4W5soOA9qdpfGDECeQuDnLff17+TwQSgUQgEUgEEoHpQ2CcJTCyYdXyGSTceBH3r34OAsC9Z+wbMjLMclS/btA2N2O/y3LQuRPdP6guXdJTR8RxmDgn3LvDzms71qWcZmrPa4FHGyasfFOBybyua+afCCQCiUAikAjMzwg0ksCJVkg4EAQQcTO4Pzv6iSLZ/bog7GlN645ZnpkIJAKJQCKQCCQCVdXoDk5gEoFEIBFIBBKBRCARSAQWbATusWBXL2uXCCQCiUAikAgkAolAItCEwJS6g5symMw+Ex5iyTfhSbrO3J1MnnltIpAIzDwETBKLsFOGPohk0DQpbeaVPEuUCCQCicDMRWAOEmjmpnh2Zm/ecMMNvXh+g6qw+eabl7h49TAxYr0JMSPg85e+9KWhk0wGpWu/mITCtwgzY5ZtSiKQCCycCCB+QjxZVpBuMhN+XpBAekjYqsc//vFl8psYlhEsfirujBBJYqQ2idim8hJo37Kb/SIk1nRiYn1wL+VnnXXWSDrd4gLuXwS/7y93/k8EEoF5h8A4Emi5spe85CUlYG8UKYI6x//6r1AwG2ywQXX++eeX3VaCEP9NOrFMGAI3bKZxPb2mbTNJP/KRjzQdyn2JQCKwkCAgmDg9sNlmm5XYm/Oq2qyRYoNGbEsvzKySl19++ZQUyQu0pSebBAZIoED1/ecgWVYZmi6xbOTLX/7yQsRjRZ+uee23335lFSnB/lMSgURgZiEwjgRSbuLyxeoPbUUVCFksuFhhQ2xBqz0Ienz33XeX5cva0sjjiUAikAjMDwgIgeUFV2zLt7/97cUque+++xZS2kQCWQ2FiBpFBEa35nhdxACNJR3r+9/1rncVchX7+vOq51/fjvPjd9ixOIdnR9+AAPbn45xhaVhVqosMSyPyQHZ9UhKBRGBqEBhHAq0ycfzxx5dgv5TcMLE8GdcA5RfBiQV0Pumkk6orrrii2njjjZMEDgMwjyUCicB8hYChKYiK+Kd/+ctfemuBc3fGeuq8IZbbdO6SSy5ZvCBXXnllb53zLhWukyyWQUtrejEXcL4uzqufG8dYK62n7qVcfFHE0vKVluCkn8XxHKWc6mx8No9OrEQkr7Y03vzmN1csiMij9b8PPPDAUkTLj5533nllm8dok002KViqqxWEuJv1IWS99dYrw5OsR29ddgTQMp+nnHJKzxpbTsyvRCARmBAC40hgvM1aY7ZNjFvxQBrzF8JFUlcSsX8qf+W75pprNiZJIVq+bOedd248bqcVTBDYyaaB5FJuTWIspViJw/J45zvfWe29996TSiPrOoZ+3tcxLLo+B/NLG7755pvHKjcPt5AUYl1w62SzjoU4Zq3vddddtwTM/+53v1uIjNipxjFOVOSBhDVNinvrW99aVlL62c9+VpZ1jKE7Sy21VPWwhz2skCVrrlvG0dhFY/r8//KXvzxSOV1nhagzzzxz3NKbbXVF1owLhwHS/K1vfavAYDnIkO22267gKKYszFZeeeVql112KRjDk/VVfXzU4TGPeUzxNjE4WJYzJRFIBCaHwDgS2DUpb73eyjy0czsgNHLVtFqJsiOlbStrIKpTkcadd95Z3rSbMDMAelg5lNNnsmkMy0O5sq5jd6dr25jsPcn7OoZ5l+egSxseS3HiW0gMQtIklnNEONokXvqU2YumFXq89JocF8eC8Fkne7K6EfkzREd+9TXYDcFRXmTKBJWnPOUpxStz+OGHF4uhetCR1n1nEVSOY489tvrQhz7UG+89SjmN+1YGy4DWpS2NGCu+zjrrlDKcffbZ9cvLOuHc6zxJhx56aNGJl156aXXAAQcUYgjDEOMdXc9yePTRRxdckgQGOvmbCEwcgQmRQNY44zzqM4InXoTRrmStDIvloCspv2HCPTIVaQzLw7G2PLqsq9yWRtZ17C7kfR3DwlaXtjH+ijn/tbW/udGG5yzV6Hv22GOPgcNTbr/99sr4ujaJtbBZUM1Qfs973lOF1yTcsiZusJyx0mmPvALcxxOZtcsNzKLHCoiEhVx00UXjCBl9vMUWW1TIFrcxYXmLX3nHS5BZ1aRrOVdYYYVifUPo+tdv75pGybDhi7tcP2JGNGJXF/nWSWDUy4st1zD3MlezGeMpiUAiMHEERiaB3B6WhrvllluqW2+9deI5T/DKtddeu1ghmy6npM8444xqq622ajpc9nFpUNwsmU3SNQ0K9/73v39TEgUX42eG5XHMMcdUO+2006TSyLqOwZ/3dQyLBa0NI2mTlZNPPnngs8Yz0EXivBVXXLEQO25q2ySOGctmFq9ZwyZzIHJ01v7771+IWJd84hyT7Mhll10Wu8ovQlcXeSKBiGlIkFK/cb7fmKTRtZysgNpTTP6L9P12TaN+TX170UUXLX+R3P6XjSCxcT7yF6Ie6hV1if35mwgkAqMjMDIJNECYSX5eWAFVz5vsIPJFMSjboOOuN1h6KtKQx6B8KLe2PCiwyaaRdXVH/yt5XwOJqnSQXdrGZNvf3GrDYzWb+Bar3GQl3LsiH5x++uklOUSP3qm7k43N86EH9tprr0IGjWn78Y9/3LkI3MvGx5kMElawQRezihETPkaRtnKK09o/+a8//bY0nM/dLth3v0TcwPve975V27hP47jdQ20OlgwQdetof9r5PxFIBLohMI4EGuvHyhcDoI01MdON+d2g3MUWW6wMyqUMr7vuusYcDEJmaTMWhbzgBS8oM76uuuqqMgau8aIRdnJLxFiTQZcdfPDBgw6V/RTXVKQxNJPZB9vyOOqoo9qSaE0j6zoGYd7XMSxsdWkb46+Y899MaMNzlmre7KHzEK0HPvCBJaAzokbX0Y0RC3WHHXYopAepQbK5PJGVUQmasXJIZL8VUM1FbjAekF42UYL7mdCxXaVLOZsm/9XT75KG87nE1WfrrbcuZTaRhXUXcfbMrrbaaoUsm0iizquvvnp1/fXXj7M+brTRRuUFHhlEGh1PSQQSgckjMI4EUlgetpClZwcl9TGln6LjAmXhMiM4XAxxbvx6gOvR7JFKQmkZdD+qCENA0VGioWhHTSPPTwQSgfkbAZMkHv3oR/deUOdFbVj8jF3bc889qw033LAUgXWKqznEObNmzeoFczZBg9VwVN1Fj0qriQSyrMkjxLg4Q0PqLtVBY+VcS9rK+ahHPapYIodN/mtLI8pnQol7xyDgPuo/kEBy3HHHVdtvv33JS1gdAqv+2dDGNUbfBPPpjkJRCpJficBCgMAis0na+AEmAyptEK7ZZ5TLm970pqJEBpw6Zbtf/epX995yDa7+xCc+MWVpZ0KJQCIw/yCAlBx00EG9Au+zzz4lKH1vx1zeEPaELmyy8HlRNqEDcWk6PhVF5V5lkVQGsfUQslFlWDl33HHHMkP33e9+d3HDDkp7WBqDrmnaLx0zuAOzqA/roSFIAmY7x/6IS9uUTu5LBBKB0RDoTAK9wZmx5QEcFKJltKzbz6bkjPUilEMMvm6/Ms9IBBKBBQkB+icmPvBC1MfgLUj1nCl1EXrG8B/u2nkpdRI4qjV1XpY7804E5hcExrmDhxXaGxjXwNwUs+x8UhKBRGDhRoD+MZYsZe4gICD2TBDEz2fQ8KOZUMYsQyIwPyPQ2RI4P1cyy54IJAKJQCKQCCQCiUAiMB6Be4z/m/8SgUQgEUgEEoFEIBFIBBYGBBrdwabhv/jFLy71NxbvhBNOmAOL3Xffvcz0csCSPqPEwJojsQV0h8HbFnMn3BknnnjiHCsHWMszZlML+SDocUoikAgkAolAIpAIJALTjUAjCTSzTaBSU/GbJmMI2CkeoPF6N910Uy9op/hNa665ZvWkJz2prKUpyKlFwyPIalRGIFsR9Q30FkOqPvi4axqR1qBfsQ6f//znl8XLf/3rX5eQAv2DyUXzR8CsKYqAiYlWj0wfaZu1ZobaX//61xKKwX4Lm1sJQPgaA6gFL73mmmuq22urGyB+Zu9ZY1NdzW5DqusiMr5zVlpppYJZksA6OrmdCCQCiUAikAgkAtOFQCMJjMy++MUvDp0MImBn3UqIUL3sZS8rVi+ECcnaZJNNqlNPPbW64IILSrKChr7kJS8ZF++rTgK7pBHlG/QrSOt+++1XQg4oB5KHdFofFCEkSJf1RAniJ99ll122agrgvN1225Wo/wYoi8dFxL1SNwROHgJrix1mvcvzzjuvnIMkf+QjH6k222yznmW1HKh9mWzjc8ghh9T25mYikAgkAolAIpAIJALTi8CUjglk5WJNe/3rX18CqsYC9uutt16vFmuttVbPStjbWdvokkbt9MZNhI717pJLLqm4rQUeFd1f3iHrr79+cWcfeeSRpawWRxes1JJEdeGutTRUv5ipiDAikur7vve9r5wS6332n5//E4FEIBFIBBKBRCARmEkITCkJtOzPpz/96d6UfiuNsIZxnYrzRUR6f8tb3lKsg01AdEmj6br6Pq5sIjI9K2CQuFVWWaXs53LmsuYCZoW0PibrIYlzbHPzbrPNNuWcfpe2eIkseBZXJzfeeGPFtSu2YUoikAgkAolAIpAIJAIzHYEpJYH9lTUuT7BnVrOIAG9po7vuuqv/1IH/m9IYePL/DriGZc/i65tvvnkhoQ499KEPLWf4Na7RUnZWQuHuDXFtyJZbblnWqTzllFNi1xy/xgQijiLsI5fXXnvtHOfkjkQgEUgEEoFEIBFIBGYaAkPHBE6msCx/O+20U1kQ/JxzzplQUhNNgzWOW1nU+1mzZlXWrrTQO+ufBcq5hsndd99dbbzxxtXiiy9exu7tuuuuPUveE5/4xOI+Zk3sn1BSr8zOO+9cJofYh+iyhKYkAolAIpAIJAKJQCIw0xGYNksg69ryyy9fxuVxC09EJpqGiR4sfDvssEOZCGIyB0KJpJmxGy7cpZdeujJe8aKLLqpuueWWUkTXIopCu1j38+yzzx5adBM/PvShD1VXXHFFyeNVr3rV0PPzYCKQCCQCiUAikAgkAjMBgWmxBL70pS8t4VOuvvrq6pOf/OSE6tmWhjAz97rXvUraZufWlxUyDpHlz1jEI444ooSwYR00uxcRjLA3xgqaLWxGrwXqiWMmlZj9S9761reW30c+8pHl1wzj448/vrrjjjvKf65uH6FwpGF8IZfyb3/723I8vxKBRCARSAQSgUQgEZiJCEw5CTQGb911162+853vVGYHx1jAUSrfJQ1u3Ahofdhhh1ViEob85Cc/KSSQBdKEjSWWWKIQuwhFY1IHd7GJH0jq3/72t97kERNAEEEziuuCGCKdxhE2xRJ0ruPGGppkkiSwjl5uJwKJQCKQCCQCicBMQ2BKSaBYfBtssEGpI+vYRhttVLZZ6cQc5IZlUXvmM5/ZixMovt6mm25aZup++9vfLvH82tKQKLIVUt+2D4FTFmMCBYwWm5Bcdtll5ReJu/LKK3vHWP0QSmTQ7GSzfD/2sY+Vc+NLWqyJsV+sQ+MGzRBGdFdcccViPURGc/WUQC1/E4FEIBFIBBKBRGCmIjCUBFrlAmkbNDHCzF+zY83CRaBi9q3KvuhFLxpXZ+PuuGmXXHLJHjl0gnF5Pqx2SGCXNFwX4/ps91sbb7755ur0008vQakFr3ZcAOf62EQuYPV7+tOfXj5mEx977LGFAEqzX/7xj39UPiEmlSCGSGyIkDN197dxiAhmfcZxnBu/iKXl5YSy4a5OSQQSgUQgEUgEEoFEYG4gsMhsq9x/+jNaffXVq912263s5jbdc889x53C8mZcXMh73vOesnxc/J8pv8YNInq/+tWvysoeTeUyUxiZ/cUvfjFuXGHTuf37TCBB8ISGMYmkn8QZI3jQQQf1Lttnn33mcBOzlrKEEsv0vfvd7+6dnxuJQCKQCCQCiUAikAhMFwKNJNDMWusHE65TJKpfkCuWLsISWLfM9Z+7sP6HD5wIl3iTRRWBNIGFsDSOEkOxXJRfiUAikAgkAolAIpAITACBRhI4gXTykkQgEUgEEoFEIBFIBBKB+QiBaYsTOB9hkEVNBBKBRCARSAQSgURgoUMgSeBCd8uzwolAIpAIJAKJQCKQCFRV4+zgZZZZpheDz8SQE044Yb7Faqmllqo22WSTsvKH2bv90qWuu+++e2/84xe+8IUMAdMPYsf/z3jGM6o11lijnO1enHnmmeOuNEvaSi3EGMoTTzyxxHMcd9I0/DF2U34+87OYsOUTs+XVKwKqq5cxp3FsfqynME4mcuXSjGN3r02/vfCFLywB7F1xzTXXzBH/dCyl3BqGQOqmYei0H1vYddOWW25ZIq1A6tJLLy1xlNtRmztnNJJAk0JWXnnlMls1VteYO8WZ+lx0HCussEIvvl9/Dm111XhXXXXVEt7mpptuKqFw6mmYHfyc5zynhHixznD/DOH6uU3bAkvD2gfhFiZHUOt6OJrllluukCdhZJCn888/f1zAamUQD1FQbCugfO1rX2uchCJ/IXGsaiKItryINZWDnJUd//v6/Oc/X8pk8sqaa65ZztMJi4VohRSBtUPWWWedXiOPfSbCfPWrX42/JfzO3//+92qllVYqnXk/CUTCHH/c4x5XJtTc+973nisk0NJ/V111VXXcccf1yipUkVnj80PMR2GcBE/XhmCGJGkjcIwVb1TsU5/6VFlHu1fJKdwYhtdzn/vcElNTOxWoXbu74YYbejP2zaLXvoSb0gaQFR9hm/pFIHoxPm+//fb+Qwvl/zb99oQnPKF62tOeVlm9KSbyAartngSYk9VvnnUvf0Jh0RdChdUnyHXRG21pqNfznve8ErLLS472ZbGCkLY8TMxbe+21S/uzgMCtt95a2l+9jaVuCjRH+03dNIaXF3KrlOERM0kaSWAUUIBnwZDnV7HKB9Jz+eWXt5KJtrpef/314yyibug222xTAlELRUMo2lFJoLAxOj/X6cAFtqbAjj766JImBbjHHnuUbTO1kbVll122Ouqoo8o+JHK//fYrK6JYPg9RFCjb8nYIYV0o9J122qnkY3+QwKVnx2lEIutC6bF6EnmKt2ifPJBS1tVTTz21uuCCC8o5FL0Opy7iNdZJoLbkc8ghh9RP622LI4mQbbbZZj1LdO/gXN4Q5xImr3nNa+Yg/nO5KK3ZuRfukQ7WajmxDrZt7chzYBlGIY2mS4bh5S1Y2/ZC6QVEG7fyjnag0952223LOuNefLQxbd6zdeCBB5bIA1Fmb9DIrmDy1ute2KWrfqM3PFd1absnU6Hf6N5Xv/rVJdvQG8g+3RQRJ9r0Rpc0eA/WWmut3osx/ceLQO+TtjzEcvUMeQFVTrFfN9xww7KcqPiyJHVTgWHkr9RN/4VM3GL9PBI402QoCRxWWG9fXVxLzqPYfQbJoLQG7R+UTv9+b4DS0DlOtbASeZu2PJzA0dwyowplo2Gwirz//e8vHeWhhx5aLDrIHIW0/vrrlzq8733vq5Cq9773veXNXn46eZ2/zuCSSy6pTj755GrHHXcslklKMUhclAuR0xkPEsq57jKP+8tCybJ0zjnnFOuMPF/1qldV6623Xo8ESpNif/Ob3zwo+Rm3f7Ltq2uF2vJpO96WDwuwOJX1QOWuQaq8ULAITlb63TmjpGc4CeuKFx1utTe+8Y2VYRjW9759tkVPfEyB3HXayIdO3apCni/KM0RHzAItjuniiy8+beGURqmrezc/6re2ezIV+o0rmnz4wx8uL5ziobJcegmo66ZheqMtDVY86Xnhffvb317a+r777lvyCRKoDMPysLqVl2oeGKHOdNRveMMbSvsLEiiNuSmT1Qldy9qWT9vxtnxSN7UhNO+Pj0QCWYy22GKLyi+SIj6gB+3cc8/tEUIxBhEBytrqIFyxLGUsRmeccUapMasEEnPttddWiBqXLPJx+OGHl4cQkWEx8IBzCTGfcmXpRFZZZZXy1nbWWWf1LFkSRUo0OMGWg7xY1g2B0dFMtSjXSSedVF1xxRXFOjEREsiKR7hJlNlydRQS9yx8dUa2YUNBUU5xDRyQQC5AwhXtmnjTcLyuaP33+cpXvlKFYi0X1r6UIbCr7S5L6VlOL0SH7R66P3UloTNsuj6umwm/ysvSyIWPEHM72hfCyoTkspqSt73tbYVMcWN+4AMf6NT+kHIWEM8HoqN9s3zpeO0jnglvybGEok5Km9aeuoqxqvJiySAsZ6R/dZyyc8CXZ5klzrPq/nnWvEyERZs1dNasWcU9795qc1bb8UJC2vByDoxDWAORPm6iaMv1dmrlIS80cEH0+sVzwLKDRE51TM22uirLZPUb1/cwHeoZ1S6mW7+13ZOp0G/qGkNctJ0LL7ywkDNLbNbv+TC90ZYGV7fn9+KLLy76U7sh2pdPuJ6H5eHZ9gkxVIYu5sKem5K6aTzaqZvG4zFd/0YigUiW4MfW5mWl8gBaQ5e7AQkhiAvrlo8Hnxs1xnlFJTycXIo+CBA3D+XHCuBh5Q5CED3AyBWXgM6OpQqh0+khj+HOVCYdA8VWJyEUCFI1HaLOxt5NRnRosEHkbrvttsp4FJ0bwsCyo57w9F/ns9122/WyC5Lil8JGLlj6EDNSX34P2dHRy8O9G0QCjR+TFswQe+VrEnmyFDivjrf2ceSRR5a2wSX5uc99bo4VUprSm5v7tCWuS/hqY/7XRZ28wNiPpNhmUUNOSJf257p4BhB4hElb32uvvaoDDjigYOZeIqLaPxe5NrDLLruUe+Q5eOUrX1kv1rhtL0TS9GzpqIKMKyux+k0X0d4MR/DygPz5b/yr8h922GElCR02Szdi6Z6zwrnGix7i2oZXlIMF0PPopQa28DS2tEnihQo2/RKdOtI61dJWV/lNVr+16dAu7SvqPVn9NuyeTIV+g5V0QkfEggKho6Iew/RGWxqhB+k2w2Q8UyGORXsZlkec75n14uEZMA7aOOG5KambxtBO3TSGxXRvjUQCWYOMe/NQe0hsv+Md7yiKPUhgvcCOsRyQurUlzjn77LN7b4RcWaEsdJYUBvKiQ/QALz3bYsF6wv2q89ZpIoY6onjwWRBCKICwVsa+mfbrbVO9jdNjyQz5+Mc/XjZNwiA6YWOhKChje3bdddfeWyoS4G3bOsYsNt62WZ90tsaAwRFRp3iPOeaYHsYl4f99OYeyRDZjPWSWWJbZ/o7afVReaXMPhyCz3qCRyOWXX76MS1QGljTHZoqwTBNWM9YuA8K33377XvG8SPjAFRlRxyCATura/pxrUsk73/nO8mLjnrEwsk6zYHFhsT5w/3vx8SKEIGrLtuO5kU6/6FhJtPfVVlutkBPP0yii0/Ece3bD7Yrc6UzDiqLNyM99p5hhxlKlHp69NryiPHCO5RHtM6avqV14pllq5cO60y/yJAjQVEtbXfvzm4h+a9OhXdvXVOi3rvekv95d/9Mp9IkXfDrb5A0Ses12m95oSyPS8ozuvPPO5dnycr755pv38mnLQzmI6xFBoi+a27PQUzcV6MtX6qYxLKZ7ayQSqGPUYXI5xmQIBdQ59Iu3+HpHFgSvfh63Ykj9uPV0EZp4wJ3jOGuYDknnQLFQYmawGghsTEjdchUdNxI5U0VHu8MOOxQycNlllxXSahzUa1/72mr//fcvBE7ZEWCWJGMbY9B/EAG/cJEODLjc995774IXcmE8GKspCyArQ1PnKV3kMYSljMvKdf0kkAULyUNA6vfPWEX5EQTRZBUTRVh1667kyGNe/Wq7rKbh7uyvX5dydWl/0jEOLjBBsJFARN79YuFgrY0JQJGvjoC79aMf/WjsmrZfL1ckXLu24eG+sa7rgL0MbL311qXd1F/k1GEU0THDQzvWxsPqWXfD0S+vf/3ry8vfscceWwbj9+cRz3MTgew/d9T/o9R1ovqtiw7t0r6mQr91uSejYlg/30uJSW0+9He0n3rkgza90ZZGWBe9JGuz1rH3EkyiT2nLI8rsBZuFWd9iAosXc+nNLUndNIZ06qYxLKZ7ayQSqDPQqbNUcEWxZBlA2yTG/QwT1iuupH7xACKBOk3jRpzDMsDyEMTTRAoWAeTPeaxczo2HXprS5/KjGOalKHN0XFzoQQqUiQWHYjT+B6aEy0291Ff5CeWA4CEHQeIidI/B8pQeDI444ohitdLRIDnwiDEzcJVmTAyRB4JoDGW9TPIzLg0J7MfOOEDEmwW4fxJCPQ2KmWsSmYiHWbozQdyL6ECVp94hdS1fl/YnrSDqtgMf9yRm6SLm9cHrzvNMeTnwrA0SoXUQ+slKdMr1csa2Y6yE3NK25cnlhsR5SYhnsWsZtFefGG+lfWn/JhwR7d7LC0vg8ccfX/RLU9qwIU2u4qbzu+4bta4T1W9ddGiX9jUV+q3tnnTBbph+Y/2jX7hX3V9DDliDg7hJP54L2016oy2N0INc+cizFxrbJI615VFOnv2lr4nhDfSslwIWV9bZuSGpm8ZQTt00hsV0b41EAlkpEJNwVyIYg6ROyJrOGXQ8HuDTTjutWA50mP3jf1wbJn8hPPwPElXPS0fBtSWNuuKpnzPd295QzYgjxlnVLU8xNqaupAIXygfBpexZWpEu5AUhJNEJsrYigaxyOlikS0caVtEYB1gumv1lvJeJCsij9JsEWSRBQm1zr4jRZrYpK1WU07Em4QYioYibzpnoPm4bBJXCj8lGXdOCkU4JGYZnf1ibSCcsTe5R/xi7ru0vMJCm8Z3us/wRDuK3boUrO2d/cUO7T4NEhzqKhNWzn5B7sSAwQDyIMamEy5oFmjXepC4hlEgMvC9/al/D8KqdVjbjpSjqqH17mYQR3VK3MPdfG7og2n//8Ym2jVHqKs+29j/oeBcd2rV9TaV+678n/bgO+j9Mv7mG/vEhXiA8t15+Bkk8M3W9MSyNaAeGzMSQBjoShizZTdKUR/958GCt10ZHIYETbX/yT900dhcWRN00VruZtTUSCdRIvb2bEYhYzZrtsp1q0RlxFwk/olNgsWpyN1Mk3iqVw9tinbBEmUwcoRCMLxjWscT5o/4iEwgY9yh5wQteUCyUBhTfeeedZR9FElLfto97zIxEipSyUU8D73XaxlqxygiM6xxjyOCBUCIv4WKFA4wotjhP2tzLhMXWJ8QbrvGU9sWYF6EVEEKTGIyJgReJgdHSd8+JN2WWWoLUIAfSNOZNmYwJ1NEh8whsPe9y0RR8sWDCoumetyWvPOqHdNge1Ia1deF5Xv7yl5d6yaseM7NL+0OmuT1hwr2EsOvcfJB0z5Lxr3DTjt17ZTKD++CDD26rSufjXK7yRuB0lvLXrrSxrbbaqjxrSLGJAjpq91jnyuWrrbH+x0xnbaFJBuGFYLImaksUu3aqntp2jGmEERKm3XOXx9hB5/e/3MERnvWXqXp5Jto2EI2uda3nN+p2Vx3apX1NVL91uSfqNVn95l7QG3S6tkWnI2faN/Gy06Y32tK47rrrih7g/WCh9tJCJ8NGe+qShzHTnlXPt/LRXfSLNjZqsPiJtj94pG5asHWTezwTZSgJ9NYWA8QV3gxBViZWIWJ8GrNt3aXG4tZmdXPcw9YkOiYPMCsjJUThU9Dx9hbXsGRxLyB5rIJNQpEK+mk2bBsJ7K9rf3qsLwiSzlBnQXRmxnmFhJUEoQoSWMeiv87KZFyY6wRvdZxliIssLCtcwMqGuPjAw3gpbkPifG/AFJnZwdIYFiIkyhC/0nD/6mRI3ixs4aqszzSmaOtiPKG0WMxMGAhhPRNCp07UKGqdgQk7YZ2K8/1qS5QvK+ggcQ5LJqmPJxt0fv9+ZAT5ougpfmRH2QPvOF/bci7CjORrb8arhXRpf+6VWevKjBCzbodYncT4WumHRR0m2uyooo31v2D0p2FGsWfBx7meM/gJWyMuX9xX7dvYKPfU8AUzvL14mF0uH50u7OrtWl6D8PKscBmGNdy5iKhA43H/wiKoA48XDOchynUSyKqvk1WmeAadFzKZttG1rurdX/fIP34drz9fsd9vFx3qvC7tq6t+Y9WiuzyL2liXe6IMk9VvnintO14qvXyIGRjWuy56o0saxtXuueeepW0rN1e9MEekSx7ao/5F3NYQL8T1IS+pm1I3TUY34U0x6Sja2Ez5XWQ2AfnvaP5aiTz8u+22W9mj8/KA1UWFKM2mjrx+3mS2ucoQBmSi7i6NNFkpYmal4KCDlK7JDTowlpUm92dbXXWYxiiFGCisw5tqQWwoZ8ShSXSQiOggPHS0yKKxkv2Epim9/n2wRtJcK41BePZfF/+jA3bfdGB18hfneIjCykNRGy9UFxbFgw46qLdLKJJ+VwwrhhmsLElvetOb5jjeu7hlI8hov6u35bLe4WHtL8qIeBlfidRyTTVhygLnefKcwazpnF6m07Th3nEVu/dBzOpZOe7eIIj1F776OW3b2paPNs7CN5F6shqxMnve6Z9+Cdwn0zamoq795Wr636ZDh7Wvenpt+k28yiBhxsx94hOf6F0+Ffekl9iADfVQVy+tg9oW3TdMb7SlEVlHG+7XPV10E0u851Q5gixHun5TN6VuqreH/u023SSSAKs0qa+01Z/OvPjfSAI9dGFtoVAjLMO8KGBTnqwWFBsXkgkhw0JjeLgpBx1PEznqUlfkiiIhOsI2S0BTmXPff8fAxThIZKI/2C+MYU0Q/6YxPdxLLNGspeHOntvYtrW/ICNIYH3W9dwu54KWn07aS1kTmVDXmdA2pgLztvZVz6NNvyF6MYbUiwZrXMroCKRuGh2zhemKNt3kRSgm09FfTZ6MeYVXozsYWTIuaKaKcUFcijrYeqy6pvIibMPq0qWuE7UWNZVnYd7HGhBu7CYcWIeG3SvXsKxxJ0WonKZ0pntfW/vT5ljJuZlSpg6Bfqtwf8ozoW30l2ki/9vaVz3NNv3GKu+TMjkEUjdNDr8F/eo23TTTDGn1+9FoCayfkNuJQCKQCCQCiUAikAgkAgseAv/1cS549coaJQKJQCKQCCQCiUAikAgMQSBJ4BBw8lAikAgkAolAIpAIJAILKgJJAhfUO5v1SgQSgUQgEUgEEoFEYAgC/w/mx2jW4jr37wAAAABJRU5ErkJggg==)"
      ],
      "metadata": {
        "id": "JJmNs5WJXojd"
      }
    }
  ]
}